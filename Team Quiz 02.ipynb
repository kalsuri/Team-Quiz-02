{
 "cells": [
  {
   "cell_type": "code",
   "execution_count": 4,
   "metadata": {},
   "outputs": [
    {
     "name": "stdout",
     "output_type": "stream",
     "text": [
      "The private key belongs to: Alice\n",
      "\n",
      "Decrypted Packet 1: (8289189050947704504369009054455947524504405 : 3724708317446052780004056356674227499691021839415 : 1)\n",
      "\n",
      "Decrypted Packet 2: (9548874684675 : 3358060149005517685823729631911182829527298766730 : 1)\n",
      "\n"
     ]
    }
   ],
   "source": [
    "# Define the elliptic curve E: y^2 = x^3 + Ax + B over finite field F_p\n",
    "p = 3927849327489732742098301298309218389728937482917\n",
    "A = 8722749729\n",
    "B = 0\n",
    "E = EllipticCurve(GF(p), [A, B])\n",
    "\n",
    "# Alice's public keys\n",
    "PA = E([3724, 602906342049343611820419675309178006818745194654])  # Base point for Alice\n",
    "QA = E([861353249895582217790142036793729538190030214505, 1734760601653880308873616205303816003016007523211])  # Public key for Alice\n",
    "\n",
    "# Bob's public keys\n",
    "PB = E([55, 2552022818715546594530165777382068684546058213955])  # Base point for Bob\n",
    "QB = E([2368226137869507310139611226079303068990271789693, 3151459300414441461488478318014699430983757085092])  # Public key for Bob\n",
    "\n",
    "# Encrypted messages (C1, C2 pairs for each packet)\n",
    "encrypted_packet1 = [E([3392250666220429748352057521249133303617757145558, 1939150282495281402743909945080558858688999245361]), E([1050636622523869006662499680251539236718340080433, 2424946592070024418655054514705348236967025679428])]\n",
    "encrypted_packet2 = [E([3392250666220429748352057521249133303617757145558, 1939150282495281402743909945080558858688999245361]), E([1988696510411214582210254167304130198728973460774, 1222467321388159168322987359117953287886789562987])]\n",
    "\n",
    "# Given private key\n",
    "private_key = 8237628684\n",
    "\n",
    "\n",
    "def decrypt(private_key, C1, C2):\n",
    "    # Compute M = C2 - xC1\n",
    "    M = C2 - private_key * C1\n",
    "    return M\n",
    "\n",
    "\n",
    "def determine_key_owner(G, Q, private_key):\n",
    "    # Check if the computed Q from the private key matches the given Q\n",
    "    computed_Q = private_key * G\n",
    "    return computed_Q == Q\n",
    "\n",
    "# Alice's and Bob's base points are actually their public encryption keys in this context\n",
    "# So, we use QA and QB for comparison, not PA and PB\n",
    "if determine_key_owner(PA, QA, private_key):\n",
    "    key_owner = \"Alice\"\n",
    "elif determine_key_owner(PB, QB, private_key):\n",
    "    key_owner = \"Bob\"\n",
    "else:\n",
    "    key_owner = \"Unknown\"\n",
    "    \n",
    "print(f\"The private key belongs to: {key_owner}\\n\")\n",
    "\n",
    "\n",
    "# Assuming the private key belongs to Alice or Bob as determined earlier\n",
    "decrypted_packet1 = decrypt(private_key, *encrypted_packet1)\n",
    "decrypted_packet2 = decrypt(private_key, *encrypted_packet2)\n",
    "\n",
    "print(f\"Decrypted Packet 1: {decrypted_packet1}\\n\")\n",
    "print(f\"Decrypted Packet 2: {decrypted_packet2}\\n\")\n"
   ]
  },
  {
   "cell_type": "code",
   "execution_count": null,
   "metadata": {},
   "outputs": [],
   "source": []
  }
 ],
 "metadata": {
  "kernelspec": {
   "display_name": "SageMath 9.3",
   "language": "sage",
   "name": "sagemath"
  },
  "language_info": {
   "codemirror_mode": {
    "name": "ipython",
    "version": 3
   },
   "file_extension": ".py",
   "mimetype": "text/x-python",
   "name": "python",
   "nbconvert_exporter": "python",
   "pygments_lexer": "ipython3",
   "version": "3.7.10"
  }
 },
 "nbformat": 4,
 "nbformat_minor": 4
}
